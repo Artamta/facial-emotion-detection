{
 "cells": [
  {
   "cell_type": "code",
   "execution_count": 8,
   "id": "2b6e13ae",
   "metadata": {},
   "outputs": [],
   "source": [
    "import torch\n",
    "import torch.nn as nn\n",
    "import torch.nn.functional as F\n",
    "device=torch.device(\"mps\")"
   ]
  },
  {
   "cell_type": "code",
   "execution_count": 10,
   "id": "fa0d0a5a",
   "metadata": {},
   "outputs": [],
   "source": [
    "class Deep_Emotion(nn.Module):\n",
    "    def __init__(self):\n",
    "        #class contains the network arcticture\n",
    "        super(Deep_Emotion,self).__init__()\n",
    "        self.conv1=nn.Conv2d(1,10,3)\n",
    "        self.conv2=nn.Conv2d(10,10,3)\n",
    "        self.pool2=nn.MaxPool2d(2,2)\n",
    "\n",
    "        self.conv3=nn.Conv2d(10,10,3)\n",
    "        self.conv4=nn.Conv2d(10,10,3)\n",
    "        self.pool4=nn.MaxPool2d(2,2)\n",
    "\n",
    "        self.norm = nn.BatchNorm2d(10)\n",
    "\n",
    "        self.fc1 = nn.Linear(810,50)\n",
    "        self.fc2 = nn.Linear(50,7)\n",
    "\n",
    "        self.loclization = nn.Sequential(\n",
    "            nn.Conv2d(1,8,kernel_size=7),\n",
    "            nn.MaxPool2d(2,stride=2),\n",
    "            nn.ReLU(True),\n",
    "            nn.Conv2d(8,10,kernel_size=5),\n",
    "            nn.MaxPool2d(2,stride=2),\n",
    "            nn.ReLU(True))\n",
    "\n",
    "        self.fc_loc=nn.Sequential(\n",
    "            nn.Linear(640,32),\n",
    "            nn.ReLU(True),\n",
    "            nn.Linear(32, 3 * 2)\n",
    "        )\n",
    "        self.fc_loc[2].weight.data.zero_()\n"
   ]
  },
  {
   "cell_type": "code",
   "execution_count": 11,
   "id": "64056b59",
   "metadata": {},
   "outputs": [],
   "source": [
    "def stn(self,x):\n",
    "    xs=self.localization(x)\n",
    "    xs= xs.view(-1,640)\n",
    "    theta = self.fc_loc(xs)\n",
    "    theta = theta.view(-1,2,3)\n",
    "\n",
    "    gird = F.affine_grid(theta, x.size())\n",
    "    x=F.grid_sample(x, grid)\n",
    "    return x"
   ]
  },
  {
   "cell_type": "code",
   "execution_count": 12,
   "id": "54f45716",
   "metadata": {},
   "outputs": [],
   "source": [
    "def forward(self,input):\n",
    "    out= self.stn(input)\n",
    "\n",
    "    out=F.relu(self.conv1(out))\n",
    "    out=self.conv2(out)\n",
    "    out = F.relu(self.pool2(out))\n",
    "\n",
    "    out = F.relu(self.conv3(out))\n",
    "    out = self.norm(self.conv4(out))\n",
    "    out = F.relu(self.pool4(out))\n",
    "\n",
    "    out = F.dropout(out)\n",
    "    out = out.view(-1,810)\n",
    "    out =F.relu(self.fc1(out))\n",
    "    out = self.fc2(out)\n",
    "\n",
    "    return out\n",
    "\n",
    "\n"
   ]
  },
  {
   "cell_type": "code",
   "execution_count": null,
   "id": "a64f9555",
   "metadata": {},
   "outputs": [],
   "source": []
  },
  {
   "cell_type": "code",
   "execution_count": null,
   "id": "4bcd4e0a",
   "metadata": {},
   "outputs": [],
   "source": []
  },
  {
   "cell_type": "code",
   "execution_count": null,
   "id": "8b8cf47f",
   "metadata": {},
   "outputs": [],
   "source": []
  },
  {
   "cell_type": "code",
   "execution_count": null,
   "id": "ad3e2517",
   "metadata": {},
   "outputs": [],
   "source": []
  }
 ],
 "metadata": {
  "kernelspec": {
   "display_name": "cv",
   "language": "python",
   "name": "python3"
  },
  "language_info": {
   "codemirror_mode": {
    "name": "ipython",
    "version": 3
   },
   "file_extension": ".py",
   "mimetype": "text/x-python",
   "name": "python",
   "nbconvert_exporter": "python",
   "pygments_lexer": "ipython3",
   "version": "3.10.13"
  }
 },
 "nbformat": 4,
 "nbformat_minor": 5
}
